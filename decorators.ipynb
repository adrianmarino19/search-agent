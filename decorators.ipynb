{
 "cells": [
  {
   "cell_type": "code",
   "execution_count": 8,
   "id": "8ad421f2",
   "metadata": {},
   "outputs": [],
   "source": [
    "# Write a decorator that prints “Starting function” before and “Done” after any function it wraps.\n",
    "\n",
    "def announce(func):\n",
    "    def wrapper():\n",
    "        print('Starting function')\n",
    "        func()\n",
    "        print('Done')\n",
    "\n",
    "    return wrapper\n",
    "\n",
    "@announce\n",
    "def mate():\n",
    "    return 1 + 1"
   ]
  },
  {
   "cell_type": "code",
   "execution_count": 9,
   "id": "6fa99bdd",
   "metadata": {},
   "outputs": [
    {
     "name": "stdout",
     "output_type": "stream",
     "text": [
      "Starting function\n",
      "Done\n",
      "None\n"
     ]
    }
   ],
   "source": [
    "print(mate())"
   ]
  },
  {
   "cell_type": "markdown",
   "id": "48481d92",
   "metadata": {},
   "source": [
    "# Easy"
   ]
  },
  {
   "cell_type": "code",
   "execution_count": 11,
   "id": "decc848a",
   "metadata": {},
   "outputs": [],
   "source": [
    "def add_prefix(document, documents):\n",
    "    prefix = f\"{len(documents)}. \"\n",
    "    new_doc = prefix + document\n",
    "    documents = documents + tuple(new_doc )\n",
    "    return documents"
   ]
  },
  {
   "cell_type": "code",
   "execution_count": 16,
   "id": "dc3fee4c",
   "metadata": {},
   "outputs": [
    {
     "data": {
      "text/plain": [
       "('how ya doing', 1)"
      ]
     },
     "execution_count": 16,
     "metadata": {},
     "output_type": "execute_result"
    }
   ],
   "source": [
    "document = 'how ya doing'\n",
    "\n",
    "h = (document, ) + (1, )\n",
    "\n",
    "h"
   ]
  },
  {
   "cell_type": "code",
   "execution_count": null,
   "id": "97777a7b",
   "metadata": {},
   "outputs": [
    {
     "data": {
      "text/plain": [
       "('hello there',\n",
       " 'sonny',\n",
       " 'how ya doing',\n",
       " '3',\n",
       " '.',\n",
       " ' ',\n",
       " 'h',\n",
       " 'o',\n",
       " 'w',\n",
       " ' ',\n",
       " 'y',\n",
       " 'a',\n",
       " ' ',\n",
       " 'd',\n",
       " 'o',\n",
       " 'i',\n",
       " 'n',\n",
       " 'g')"
      ]
     },
     "execution_count": 12,
     "metadata": {},
     "output_type": "execute_result"
    }
   ],
   "source": [
    "documents = ('hello there', 'sonny', 'how ya doing')\n",
    "\n",
    "add_prefix(, documents)"
   ]
  },
  {
   "cell_type": "code",
   "execution_count": 17,
   "id": "17721ad9",
   "metadata": {},
   "outputs": [
    {
     "ename": "ZeroDivisionError",
     "evalue": "division by zero",
     "output_type": "error",
     "traceback": [
      "\u001b[0;31m---------------------------------------------------------------------------\u001b[0m",
      "\u001b[0;31mZeroDivisionError\u001b[0m                         Traceback (most recent call last)",
      "Cell \u001b[0;32mIn[17], line 1\u001b[0m\n\u001b[0;32m----> 1\u001b[0m \u001b[38;5;241;43m0\u001b[39;49m\u001b[38;5;241;43m/\u001b[39;49m\u001b[38;5;241;43m0\u001b[39;49m\n",
      "\u001b[0;31mZeroDivisionError\u001b[0m: division by zero"
     ]
    }
   ],
   "source": [
    "0/0"
   ]
  }
 ],
 "metadata": {
  "kernelspec": {
   "display_name": ".venv",
   "language": "python",
   "name": "python3"
  },
  "language_info": {
   "codemirror_mode": {
    "name": "ipython",
    "version": 3
   },
   "file_extension": ".py",
   "mimetype": "text/x-python",
   "name": "python",
   "nbconvert_exporter": "python",
   "pygments_lexer": "ipython3",
   "version": "3.10.10"
  }
 },
 "nbformat": 4,
 "nbformat_minor": 5
}
