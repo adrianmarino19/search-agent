{
 "cells": [
  {
   "cell_type": "code",
   "execution_count": 8,
   "id": "8ad421f2",
   "metadata": {},
   "outputs": [],
   "source": [
    "# Write a decorator that prints “Starting function” before and “Done” after any function it wraps.\n",
    "\n",
    "def announce(func):\n",
    "    def wrapper():\n",
    "        print('Starting function')\n",
    "        func()\n",
    "        print('Done')\n",
    "\n",
    "    return wrapper\n",
    "\n",
    "@announce\n",
    "def mate():\n",
    "    return 1 + 1"
   ]
  },
  {
   "cell_type": "code",
   "execution_count": 9,
   "id": "6fa99bdd",
   "metadata": {},
   "outputs": [
    {
     "name": "stdout",
     "output_type": "stream",
     "text": [
      "Starting function\n",
      "Done\n",
      "None\n"
     ]
    }
   ],
   "source": [
    "print(mate())"
   ]
  },
  {
   "cell_type": "code",
   "execution_count": null,
   "id": "decc848a",
   "metadata": {},
   "outputs": [],
   "source": []
  }
 ],
 "metadata": {
  "kernelspec": {
   "display_name": ".venv",
   "language": "python",
   "name": "python3"
  },
  "language_info": {
   "codemirror_mode": {
    "name": "ipython",
    "version": 3
   },
   "file_extension": ".py",
   "mimetype": "text/x-python",
   "name": "python",
   "nbconvert_exporter": "python",
   "pygments_lexer": "ipython3",
   "version": "3.10.10"
  }
 },
 "nbformat": 4,
 "nbformat_minor": 5
}
