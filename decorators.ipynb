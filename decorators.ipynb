{
 "cells": [
  {
   "cell_type": "code",
   "execution_count": 8,
   "id": "8ad421f2",
   "metadata": {},
   "outputs": [],
   "source": [
    "# Write a decorator that prints “Starting function” before and “Done” after any function it wraps.\n",
    "\n",
    "def announce(func):\n",
    "    def wrapper():\n",
    "        print('Starting function')\n",
    "        func()\n",
    "        print('Done')\n",
    "\n",
    "    return wrapper\n",
    "\n",
    "@announce\n",
    "def mate():\n",
    "    return 1 + 1"
   ]
  },
  {
   "cell_type": "code",
   "execution_count": 9,
   "id": "6fa99bdd",
   "metadata": {},
   "outputs": [
    {
     "name": "stdout",
     "output_type": "stream",
     "text": [
      "Starting function\n",
      "Done\n",
      "None\n"
     ]
    }
   ],
   "source": [
    "print(mate())"
   ]
  },
  {
   "cell_type": "markdown",
   "id": "48481d92",
   "metadata": {},
   "source": [
    "# Easy"
   ]
  },
  {
   "cell_type": "code",
   "execution_count": 11,
   "id": "decc848a",
   "metadata": {},
   "outputs": [],
   "source": [
    "def add_prefix(document, documents):\n",
    "    prefix = f\"{len(documents)}. \"\n",
    "    new_doc = prefix + document\n",
    "    documents = documents + tuple(new_doc )\n",
    "    return documents"
   ]
  },
  {
   "cell_type": "code",
   "execution_count": 16,
   "id": "dc3fee4c",
   "metadata": {},
   "outputs": [
    {
     "data": {
      "text/plain": [
       "('how ya doing', 1)"
      ]
     },
     "execution_count": 16,
     "metadata": {},
     "output_type": "execute_result"
    }
   ],
   "source": [
    "document = 'how ya doing'\n",
    "\n",
    "h = (document, ) + (1, )\n",
    "\n",
    "h"
   ]
  },
  {
   "cell_type": "code",
   "execution_count": null,
   "id": "97777a7b",
   "metadata": {},
   "outputs": [
    {
     "data": {
      "text/plain": [
       "('hello there',\n",
       " 'sonny',\n",
       " 'how ya doing',\n",
       " '3',\n",
       " '.',\n",
       " ' ',\n",
       " 'h',\n",
       " 'o',\n",
       " 'w',\n",
       " ' ',\n",
       " 'y',\n",
       " 'a',\n",
       " ' ',\n",
       " 'd',\n",
       " 'o',\n",
       " 'i',\n",
       " 'n',\n",
       " 'g')"
      ]
     },
     "execution_count": 12,
     "metadata": {},
     "output_type": "execute_result"
    }
   ],
   "source": [
    "documents = ('hello there', 'sonny', 'how ya doing')\n",
    "\n",
    "add_prefix(, documents)"
   ]
  },
  {
   "cell_type": "code",
   "execution_count": 17,
   "id": "17721ad9",
   "metadata": {},
   "outputs": [
    {
     "ename": "ZeroDivisionError",
     "evalue": "division by zero",
     "output_type": "error",
     "traceback": [
      "\u001b[0;31m---------------------------------------------------------------------------\u001b[0m",
      "\u001b[0;31mZeroDivisionError\u001b[0m                         Traceback (most recent call last)",
      "Cell \u001b[0;32mIn[17], line 1\u001b[0m\n\u001b[0;32m----> 1\u001b[0m \u001b[38;5;241;43m0\u001b[39;49m\u001b[38;5;241;43m/\u001b[39;49m\u001b[38;5;241;43m0\u001b[39;49m\n",
      "\u001b[0;31mZeroDivisionError\u001b[0m: division by zero"
     ]
    }
   ],
   "source": [
    "0/0"
   ]
  },
  {
   "cell_type": "code",
   "execution_count": null,
   "id": "06eaca2e",
   "metadata": {},
   "outputs": [
    {
     "data": {
      "text/plain": [
       "5"
      ]
     },
     "execution_count": 25,
     "metadata": {},
     "output_type": "execute_result"
    }
   ],
   "source": [
    "a = [1,2,3,4, 5]\n",
    "\n",
    "len(a)"
   ]
  },
  {
   "cell_type": "code",
   "execution_count": 26,
   "id": "3751b6aa",
   "metadata": {},
   "outputs": [],
   "source": [
    "def get_median_font_size(font_sizes):\n",
    "    font_sizes = sorted(font_sizes)\n",
    "\n",
    "    # if len(font_sizes) // 2 == 0:\n",
    "    #     median_ind = len(font_sizes)/2 - 1\n",
    "    #     return font_sizes[median_ind]\n",
    "\n",
    "    if len(font_sizes) // 2 > 0:\n",
    "        median_ind = ((len(font_sizes) - 1)/2)\n",
    "        return font_sizes[median_ind]\n",
    "\n",
    "    else:\n",
    "        return None"
   ]
  },
  {
   "cell_type": "code",
   "execution_count": null,
   "id": "e366933c",
   "metadata": {},
   "outputs": [],
   "source": [
    "\n",
    "a = []\n",
    "\n",
    "if len(a) // 2 == 0 and len(a) > 0:\n",
    "    print('yep')"
   ]
  },
  {
   "cell_type": "code",
   "execution_count": 7,
   "id": "ea70eddb",
   "metadata": {},
   "outputs": [
    {
     "data": {
      "text/plain": [
       "'BABABA'"
      ]
     },
     "execution_count": 7,
     "metadata": {},
     "output_type": "execute_result"
    }
   ],
   "source": [
    "line = '    bababa  '\n",
    "\n",
    "line.strip().upper()"
   ]
  },
  {
   "cell_type": "code",
   "execution_count": 9,
   "id": "5c68ff18",
   "metadata": {},
   "outputs": [
    {
     "ename": "ValueError",
     "evalue": "invalid literal for int() with base 10: 'Hello!'",
     "output_type": "error",
     "traceback": [
      "\u001b[0;31m---------------------------------------------------------------------------\u001b[0m",
      "\u001b[0;31mValueError\u001b[0m                                Traceback (most recent call last)",
      "Cell \u001b[0;32mIn[9], line 3\u001b[0m\n\u001b[1;32m      1\u001b[0m hex_string \u001b[38;5;241m=\u001b[39m \u001b[38;5;124m'\u001b[39m\u001b[38;5;124mHello!\u001b[39m\u001b[38;5;124m'\u001b[39m\n\u001b[0;32m----> 3\u001b[0m \u001b[38;5;28;43mint\u001b[39;49m\u001b[43m(\u001b[49m\u001b[43mhex_string\u001b[49m\u001b[43m,\u001b[49m\u001b[43m \u001b[49m\u001b[38;5;241;43m10\u001b[39;49m\u001b[43m)\u001b[49m\n",
      "\u001b[0;31mValueError\u001b[0m: invalid literal for int() with base 10: 'Hello!'"
     ]
    }
   ],
   "source": [
    "hex_string = 'Hello!'\n",
    "\n",
    "int(hex_string, 10)"
   ]
  },
  {
   "cell_type": "code",
   "execution_count": 27,
   "id": "d1d5d614",
   "metadata": {},
   "outputs": [],
   "source": [
    "a = [\n",
    "    (\"document\", [\".doc\", \".docx\"]),\n",
    "    (\"image\", [\".jpg\", \".png\"])\n",
    "]"
   ]
  },
  {
   "cell_type": "code",
   "execution_count": 34,
   "id": "a17ac905",
   "metadata": {},
   "outputs": [
    {
     "name": "stdout",
     "output_type": "stream",
     "text": [
      "{'.doc': ['document']}\n",
      "{'.doc': ['document'], '.docx': ['document']}\n",
      "{'.doc': ['document'], '.docx': ['document'], '.jpg': ['image']}\n",
      "{'.doc': ['document'], '.docx': ['document'], '.jpg': ['image'], '.png': ['image']}\n"
     ]
    }
   ],
   "source": [
    "b = {}\n",
    "\n",
    "for tup in a:\n",
    "    d = tup[0]\n",
    "    for ext in tup[1]:\n",
    "        b[ext] = []\n",
    "        b[ext].append(d)\n",
    "        print(b)\n"
   ]
  },
  {
   "cell_type": "code",
   "execution_count": 21,
   "id": "8cb9600b",
   "metadata": {},
   "outputs": [
    {
     "data": {
      "text/plain": [
       "{1: [2]}"
      ]
     },
     "execution_count": 21,
     "metadata": {},
     "output_type": "execute_result"
    }
   ],
   "source": [
    "a = {}\n",
    "\n",
    "a[1] = [2]\n",
    "\n",
    "a"
   ]
  },
  {
   "cell_type": "code",
   "execution_count": 24,
   "id": "a118e20d",
   "metadata": {},
   "outputs": [],
   "source": [
    "a[1].append(2)"
   ]
  },
  {
   "cell_type": "code",
   "execution_count": 25,
   "id": "203af3db",
   "metadata": {},
   "outputs": [
    {
     "data": {
      "text/plain": [
       "{1: [2, 2, 2]}"
      ]
     },
     "execution_count": 25,
     "metadata": {},
     "output_type": "execute_result"
    }
   ],
   "source": [
    "a"
   ]
  },
  {
   "cell_type": "code",
   "execution_count": null,
   "id": "3e769c73",
   "metadata": {},
   "outputs": [],
   "source": [
    "numbers = [1, 2, 3, 4, 5]\n"
   ]
  }
 ],
 "metadata": {
  "kernelspec": {
   "display_name": ".venv",
   "language": "python",
   "name": "python3"
  },
  "language_info": {
   "codemirror_mode": {
    "name": "ipython",
    "version": 3
   },
   "file_extension": ".py",
   "mimetype": "text/x-python",
   "name": "python",
   "nbconvert_exporter": "python",
   "pygments_lexer": "ipython3",
   "version": "3.10.10"
  }
 },
 "nbformat": 4,
 "nbformat_minor": 5
}
